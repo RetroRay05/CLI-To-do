{
  "nbformat": 4,
  "nbformat_minor": 0,
  "metadata": {
    "colab": {
      "provenance": [],
      "authorship_tag": "ABX9TyOEhe9oAS8DVO72Wo4NWfP2",
      "include_colab_link": true
    },
    "kernelspec": {
      "name": "python3",
      "display_name": "Python 3"
    },
    "language_info": {
      "name": "python"
    }
  },
  "cells": [
    {
      "cell_type": "markdown",
      "metadata": {
        "id": "view-in-github",
        "colab_type": "text"
      },
      "source": [
        "<a href=\"https://colab.research.google.com/github/RetroRay05/CLI-To-do-/blob/main/CLI_to_do.ipynb\" target=\"_parent\"><img src=\"https://colab.research.google.com/assets/colab-badge.svg\" alt=\"Open In Colab\"/></a>"
      ]
    },
    {
      "cell_type": "code",
      "execution_count": 32,
      "metadata": {
        "colab": {
          "base_uri": "https://localhost:8080/"
        },
        "id": "YrcoB2-YT0E3",
        "outputId": "9458b61a-6400-459c-b38d-dc90a93ef9f2"
      },
      "outputs": [
        {
          "output_type": "stream",
          "name": "stdout",
          "text": [
            "==============================\n",
            "Welcome to Los Pollos Hermanos \n",
            "--------- To-do list ---------\n",
            "\n",
            ">>> seed\n",
            "==============================\n",
            "\n",
            "==============================\n",
            "Welcome to Los Pollos Hermanos \n",
            "--------- To-do list ---------\n",
            "\n",
            "[1] seed\n",
            ">>> qq\n",
            "==============================\n",
            "\n"
          ]
        }
      ],
      "source": [
        "def rem(x):\n",
        "  lst.pop(x-1)\n",
        "\n",
        "def disp():\n",
        "  print('==============================')\n",
        "  print('Welcome to Los Pollos Hermanos',\n",
        "        '\\n--------- To-do list ---------\\n')\n",
        "  for i in lst:\n",
        "    n = lst.index(i)\n",
        "    print('[{}] {}'.format(n+1,i))\n",
        "\n",
        "lst = []\n",
        "\n",
        "while True: # main\n",
        "  disp()\n",
        "  a = input('>>> ')\n",
        "  # print('\\n' * 25)  For aesthetics sake\n",
        "  print('==============================\\n')\n",
        "  if a == 'qq' :\n",
        "    break # program end\n",
        "  if a.isdigit() :\n",
        "    rem(int(a))\n",
        "  else:\n",
        "    lst.append(a)"
      ]
    },
    {
      "cell_type": "code",
      "source": [],
      "metadata": {
        "id": "wmPahJBhpKzO"
      },
      "execution_count": null,
      "outputs": []
    }
  ]
}