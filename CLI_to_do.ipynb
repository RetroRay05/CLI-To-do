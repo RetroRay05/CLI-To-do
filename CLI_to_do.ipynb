{
  "nbformat": 4,
  "nbformat_minor": 0,
  "metadata": {
    "colab": {
      "provenance": []
    },
    "kernelspec": {
      "name": "python3",
      "display_name": "Python 3"
    },
    "language_info": {
      "name": "python"
    }
  },
  "cells": [
    {
      "cell_type": "code",
      "execution_count": null,
      "metadata": {
        "id": "YrcoB2-YT0E3"
      },
      "outputs": [],
      "source": [
        "def rem(x):\n",
        "  lst.pop(x-1)\n",
        "\n",
        "def disp():\n",
        "  print('==============================')\n",
        "  print('Welcome to Los Pollos Hermanos',\n",
        "        '\\n--------- To-do list ---------\\n')\n",
        "  for i in lst:\n",
        "    n = lst.index(i)\n",
        "    print('[{}] {}'.format(n+1,i))\n",
        "\n",
        "lst = []\n",
        "\n",
        "while True: # main\n",
        "  disp()\n",
        "  a = input('>>> ')\n",
        "  # print('\\n' * 25)  For aesthetics sake\n",
        "  print('==============================\\n')\n",
        "  if a == 'qq' :\n",
        "    break # program end\n",
        "  if a.isdigit() :\n",
        "    rem(int(a))\n",
        "  else:\n",
        "    lst.append(a)"
      ]
    },
    {
      "cell_type": "code",
      "source": [],
      "metadata": {
        "id": "wmPahJBhpKzO"
      },
      "execution_count": null,
      "outputs": []
    }
  ]
}